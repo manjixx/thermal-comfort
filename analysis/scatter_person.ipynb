{
 "cells": [
  {
   "cell_type": "code",
   "execution_count": 21,
   "metadata": {
    "collapsed": true,
    "pycharm": {
     "name": "#%%\n"
    }
   },
   "outputs": [],
   "source": [
    "'''\n",
    "This code is used to process the summer data in 2021，by person\n",
    "'''\n",
    "import pandas as pd\n",
    "import csv\n",
    "import seaborn as sns\n",
    "import matplotlib.pyplot as plt\n"
   ]
  },
  {
   "cell_type": "code",
   "execution_count": null,
   "outputs": [],
   "source": [
    "# 读取2021年夏季数据并查看PMV分布\n",
    "df = pd.read_csv('../dataset/dataset1/summer_2021_by_person.csv',encoding=\"gbk\")\n",
    "df.dropna(axis=0,how='any')\n",
    "names = ['卞云山','柴臻豪','程延','杜帅飞','段婷芳','付业琛','何向萌','贺思哲','吉睿琨','李佳欣',\n",
    "         '李新路','李星奇','李杨','李宇婷','李子文','梁天堡','刘亚萍','吕晓亮','乔潇逸','邵柯',\n",
    "         '邵世彪','申沅均','沈婷','田颖','王青乙','魏亚鹏','杨晨阳','杨雨洁','余俊','余香南','袁丹夫',\n",
    "         '张栋','张艺潇','张远东','张悦仙','赵浩铭','赵艳玲','朱济琛']\n",
    "\n",
    "for i in range(len(names)):\n",
    "    data = df.loc[df[\"no\"]== i]\n",
    "    pmv_distribution = sns.kdeplot(data['thermal sensation'], shade=True)\n",
    "    pmv_distribution.axes.set_title('no {} \\'s distribution plot of 2021 summer'.format(str(i)), fontsize=10)\n",
    "    pmv_distribution.set_xlabel('pmv', fontsize=10)\n",
    "    pmv_distribution.set_ylabel('density', fontsize=10)\n",
    "    plt.savefig('./result/summer/no {} \\'s distribution plot of 2021 summer'.format(str(i)),dpi=200, bbox_inches='tight')\n",
    "    plt.show()\n"
   ],
   "metadata": {
    "collapsed": false,
    "pycharm": {
     "name": "#%%\n",
     "is_executing": true
    }
   }
  },
  {
   "cell_type": "code",
   "execution_count": null,
   "outputs": [],
   "source": [
    "# 读取2021年冬季季数据并查看PMV分布\n",
    "df = pd.read_csv('../dataset/dataset1/winter_2021_by_person.csv',encoding=\"gbk\")\n",
    "df.dropna(axis=0,how='any')\n",
    "names = ['边策','曹天翔','董翔翔','杜帅飞','高泱晗',\n",
    "         '顾腾','顾妍','侯江伟','吉睿琨','李佳欣',\n",
    "         '李星奇','李杨','李子文','刘家丞','刘亚萍',\n",
    "         '乔潇逸','苏莹','田颖','王洁','王秦龙',\n",
    "         '王青乙','王姝婕','王钰琳','魏冬阳','魏佳利',\n",
    "         '魏亚鹏','武龙坤','余俊','袁丹夫','张艺潇',\n",
    "         '张源鸿','张远东','赵国梁','郑超','周春翔']\n",
    "for i in range(len(names)):\n",
    "    data = df.loc[df[\"no\"]== i]\n",
    "    pmv_distribution = sns.kdeplot(data['thermal sensation'], shade=True)\n",
    "    pmv_distribution.axes.set_title('no {} \\'s pmv distribution plot of 2021 winter'.format(str(i)), fontsize=10)\n",
    "    pmv_distribution.set_xlabel('pmv', fontsize=10)\n",
    "    pmv_distribution.set_ylabel('count', fontsize=10)\n",
    "    plt.savefig('./result/winter/no {} \\'s pmv distribution plot of 2021 winter'.format(str(i)),dpi=200, bbox_inches='tight')\n",
    "    plt.show()"
   ],
   "metadata": {
    "collapsed": false,
    "pycharm": {
     "name": "#%%\n",
     "is_executing": true
    }
   }
  },
  {
   "cell_type": "code",
   "execution_count": 23,
   "outputs": [],
   "source": [],
   "metadata": {
    "collapsed": false,
    "pycharm": {
     "name": "#%%\n"
    }
   }
  }
 ],
 "metadata": {
  "kernelspec": {
   "display_name": "Python 3",
   "language": "python",
   "name": "python3"
  },
  "language_info": {
   "codemirror_mode": {
    "name": "ipython",
    "version": 2
   },
   "file_extension": ".py",
   "mimetype": "text/x-python",
   "name": "python",
   "nbconvert_exporter": "python",
   "pygments_lexer": "ipython2",
   "version": "2.7.6"
  }
 },
 "nbformat": 4,
 "nbformat_minor": 0
}