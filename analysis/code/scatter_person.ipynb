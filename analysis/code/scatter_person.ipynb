{
 "cells": [
  {
   "cell_type": "code",
   "execution_count": 11,
   "metadata": {
    "collapsed": true,
    "pycharm": {
     "name": "#%%\n"
    }
   },
   "outputs": [],
   "source": [
    "'''\n",
    "This code is used to process the summer data in 2021，by person\n",
    "'''\n",
    "import pandas as pd\n",
    "import csv\n",
    "import seaborn as sns\n",
    "import matplotlib.pyplot as plt\n",
    "names = ['边策','卞云山','曹天翔','柴臻豪','程延','董翔翔','杜帅飞','段婷芳','付业琛',\n",
    "         '高泱晗','顾腾','顾妍','何向萌','贺思哲','侯江伟','吉睿琨','李佳欣','李新路',\n",
    "         '李星奇','李杨','李宇婷','李子文','刘家丞','梁天堡','刘亚萍','吕晓亮','乔潇逸',\n",
    "         '邵柯','苏莹','邵世彪','申沅均','沈婷','田颖','王青乙','王洁','王秦龙','王姝婕',\n",
    "         '王钰琳','魏冬阳','魏佳利','魏亚鹏','武龙坤','杨晨阳','杨雨洁','余俊','余香南',\n",
    "         '袁丹夫','张源鸿','张栋','张艺潇','张远东','张悦仙','赵浩铭','赵国梁','郑超',\n",
    "         '周春翔','赵艳玲','朱济琛']"
   ]
  },
  {
   "cell_type": "code",
   "execution_count": null,
   "outputs": [],
   "source": [
    "# 读取2021年夏季数据并查看每个实验人员的PMV分布\n",
    "df = pd.read_csv('../../dataset/summer/summer_2021_by_person.csv',encoding=\"gbk\")\n",
    "df.dropna(axis=0,how='any',inplace = True)\n",
    "\n",
    "for i in range(len(names)):\n",
    "    data = df.loc[df[\"no\"] == i]\n",
    "    if len(data) != 0:\n",
    "        pmv_distribution = sns.kdeplot(data['thermal sensation'], shade=True)\n",
    "        pmv_distribution.axes.set_title('no {} \\'s distribution plot of 2021 summer'.format(str(i)), fontsize=10)\n",
    "        pmv_distribution.set_xlabel('pmv', fontsize = 10)\n",
    "        pmv_distribution.set_ylabel('density', fontsize=10)\n",
    "        plt.savefig('.././result/summer/scatter_each_person/no {} \\'s distribution plot of 2021 summer'.format(str(i)),dpi=200, bbox_inches='tight')\n",
    "        plt.show()\n"
   ],
   "metadata": {
    "collapsed": false,
    "pycharm": {
     "name": "#%%\n",
     "is_executing": true
    }
   }
  },
  {
   "cell_type": "code",
   "execution_count": null,
   "outputs": [],
   "source": [
    "# 读取2021年冬季季数据并查看每个实验人员的PMV分布\n",
    "df = pd.read_csv('../../dataset/winter/winter_2021_by_person.csv',encoding=\"gbk\")\n",
    "df.dropna(axis=0,how='any',inplace = True)\n",
    "\n",
    "for i in range(len(names)):\n",
    "    data = df.loc[df[\"no\"]== i]\n",
    "    if len(data) != 0:\n",
    "        pmv_distribution = sns.kdeplot(data['thermal sensation'], shade=True)\n",
    "        pmv_distribution.axes.set_title('no {} \\'s pmv distribution plot of 2021 winter'.format(str(i)), fontsize=10)\n",
    "        pmv_distribution.set_xlabel('pmv', fontsize=10)\n",
    "        pmv_distribution.set_ylabel('count', fontsize=10)\n",
    "        plt.savefig('.././result/winter/scatter_each_person/no {} \\'s pmv distribution plot of 2021 winter'.format(str(i)),dpi=200, bbox_inches='tight')\n",
    "        plt.show()\n"
   ],
   "metadata": {
    "collapsed": false,
    "pycharm": {
     "name": "#%%\n",
     "is_executing": true
    }
   }
  }
 ],
 "metadata": {
  "kernelspec": {
   "display_name": "Python 3",
   "language": "python",
   "name": "python3"
  },
  "language_info": {
   "codemirror_mode": {
    "name": "ipython",
    "version": 2
   },
   "file_extension": ".py",
   "mimetype": "text/x-python",
   "name": "python",
   "nbconvert_exporter": "python",
   "pygments_lexer": "ipython2",
   "version": "2.7.6"
  }
 },
 "nbformat": 4,
 "nbformat_minor": 0
}