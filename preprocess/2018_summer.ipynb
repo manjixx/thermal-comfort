{
 "cells": [
  {
   "cell_type": "code",
   "execution_count": null,
   "metadata": {
    "scrolled": false,
    "pycharm": {
     "name": "#%%\n"
    }
   },
   "outputs": [],
   "source": [
    "import pandas as pd\n",
    "import csv\n",
    "import re\n",
    "'''\n",
    "This code is used to process the summer data in 2018\n",
    "'''"
   ]
  },
  {
   "cell_type": "code",
   "execution_count": null,
   "metadata": {
    "pycharm": {
     "name": "#%%\n"
    }
   },
   "outputs": [],
   "source": [
    "'''\n",
    "write the \n",
    "'''\n",
    "with open(\"F:/Thermal Comfort/DataSet/CPES_DataSet/2018_summer.csv\", \"a\", encoding='utf-8', newline='') as fs:\n",
    "        fieldnames = ['实验人员编号', '年龄','身高','体重','BMI','日期','时间','温度（℃）','湿度（%）','热舒适接受程度（-3~3）','热感觉（-3~3）','有无风感']\n",
    "        writer = csv.DictWriter(fs, fieldnames=fieldnames)\n",
    "        writer.writeheader()"
   ]
  },
  {
   "cell_type": "code",
   "execution_count": null,
   "metadata": {
    "pycharm": {
     "name": "#%%\n"
    }
   },
   "outputs": [],
   "source": [
    "\n",
    "df = pd.read_excel('../2018夏天/热舒适度记录表01.xlsx')\n",
    "info=df.iloc[0,0]\n",
    "pattern='[0-9]+'\n",
    "listing=re.findall(pattern,info)\n",
    "time=df.iloc[4,0]\n",
    "\n",
    "\n",
    "for i in range(4, df.shape[0]):\n",
    "    with open(\"F:/Thermal Comfort/DataSet/CPES_DataSet/2018_summer.csv\", \"a\", encoding='utf-8', newline='') as fs:\n",
    "\n",
    "        if str(df.iloc[i,0])==\"nan\":\n",
    "            datalist = ['01',listing[0],listing[1],listing[2],int(listing[2])/(int(listing[1])/100 * int(listing[1])/100),time.date(),df.iloc[i,1],df.iloc[i,2],df.iloc[i,3],df.iloc[i,4],df.iloc[i,5],df.iloc[i,6]]\n",
    "        else:\n",
    "            time=df.iloc[i,0]\n",
    "            datalist = ['01',listing[0], listing[1], listing[2],int(listing[2])/(int(listing[1])/100 * int(listing[1])/100), time.date(), df.iloc[i, 1], df.iloc[i, 2], df.iloc[i, 3],\n",
    "                        df.iloc[i, 4], df.iloc[i, 5], df.iloc[i, 6]]\n",
    "        print(datalist)\n",
    "        csv_write = csv.writer(fs)\n",
    "        csv_write.writerow(datalist)\n"
   ]
  }
 ],
 "metadata": {
  "interpreter": {
   "hash": "fadb88b6e0352f6ca778b5f0205dbbad2d926fc7d9ed66595f874628d2a2229e"
  },
  "kernelspec": {
   "display_name": "Python 3",
   "language": "python",
   "name": "python3"
  },
  "language_info": {
   "codemirror_mode": {
    "name": "ipython",
    "version": 3
   },
   "file_extension": ".py",
   "mimetype": "text/x-python",
   "name": "python",
   "nbconvert_exporter": "python",
   "pygments_lexer": "ipython3",
   "version": "3.8.8"
  }
 },
 "nbformat": 4,
 "nbformat_minor": 2
}