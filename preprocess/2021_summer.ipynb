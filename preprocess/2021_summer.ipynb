{
 "cells": [
  {
   "cell_type": "code",
   "execution_count": 2,
   "metadata": {
    "scrolled": false,
    "pycharm": {
     "name": "#%%\n"
    }
   },
   "outputs": [
    {
     "data": {
      "text/plain": [
       "'\\nThis code is used to process the summer data in 2021\\n'"
      ]
     },
     "execution_count": 2,
     "metadata": {},
     "output_type": "execute_result"
    }
   ],
   "source": [
    "import pandas as pd\n",
    "import csv\n",
    "import re\n",
    "\n",
    "'''\n",
    "This code is used to process the summer data in 2021\n",
    "'''"
   ]
  },
  {
   "cell_type": "code",
   "execution_count": null,
   "metadata": {
    "pycharm": {
     "name": "#%%\n"
    }
   },
   "outputs": [],
   "source": [
    "'''\n",
    "write to table header\n",
    "'''\n",
    "\n",
    "with open(\"F:/Thermal Comfort/DataSet/CPES_DataSet/2021_summer.csv\", \"a\", encoding='utf-8', newline='') as fs:\n",
    "        fieldnames = ['no','name','gender','age','height(cm)','weight(Kg)','BMi','city','sub thermal preference(-1:c 0:n 1:w)',\n",
    "        'thermal sensitivity(0:in 1:sligtly 2:very)','environment assess(-1:c 0:n 1:w)','importance of Tin(1:VUI ~ 5:VI)',\n",
    "        'importance of Hin(1:VUI ~ 5:VI)','importance of Air_Q(1:VUI ~ 5:VI)','importance of Air_S(1:VUI ~ 5:VI)',\n",
    "        'importance of Weather(1:VUI ~ 5:VI)','importance of Tout(1:VUI ~ 5:VI)','importance of Hout(1:VUI ~ 5:VI)',\n",
    "        'importance of Mood(1:VUI ~ 5:VI)',' importance of emotion to tolerance(1:VUI ~ 5:VI)',\n",
    "        'Date','Time','Room','Seat','Cloth','Thermal sensation','Humidity sensation','Thermal acceptance(1:A 0:UNA)',\n",
    "        'Thermal comfort (1:Comf,0:Uncomf','Air speed acceptalbe (1:A 0:UNA),Thermal preferance(-1:c,0:not change,1:w)',\n",
    "        'Mood(1:pos,0:neural,1:neg)','Temp','Humi','PM25','pm10','pm1','co2']\n",
    "        writer = csv.DictWriter(fs, fieldnames=fieldnames)\n",
    "        writer.writeheader()"
   ]
  },
  {
   "cell_type": "code",
   "execution_count": null,
   "metadata": {
    "pycharm": {
     "name": "#%%\n"
    }
   },
   "outputs": [],
   "source": [
    "'''\n",
    "read excel\n",
    "'''\n",
    "b = pd.read_excel('../2021-summer/7-31.xls' )\n",
    "info=b.iloc[:,1:25]\n",
    "# info=b.iloc[:,24:25]\n",
    "info=info.dropna()\n",
    "# print(info.iloc[0,0])\n",
    "print(info)\n",
    "# print(info.iloc[0,0],info.iloc[0,1],info.iloc[0,2])"
   ]
  },
  {
   "cell_type": "code",
   "execution_count": null,
   "metadata": {
    "pycharm": {
     "name": "#%%\n"
    }
   },
   "outputs": [],
   "source": [
    "'''\n",
    "process the data\n",
    "'''\n",
    "for i in range(0, b.shape[0]):\n",
    "    k = (int)((i)/15)\n",
    "    with open(\"F:/Thermal Comfort/DataSet/CPES_DataSet/8-1.csv\", \"a\", encoding='utf-8', newline='') as fs:\n",
    "        print(k)\n",
    "        # if str(b.iloc[i,1])==\"nan\":\n",
    "        #     # print((int)(i/15))\n",
    "        #     datalist = [b.iloc[i,0],info.iloc[(int)(i/15),0],info.iloc[(int)(i/15),1],info.iloc[(int)(i/15),2],info.iloc[(int)(i/15),3],info.iloc[(int)(i/15),4],\n",
    "        #     info.iloc[(int)(i/15),5],info.iloc[(int)(i/15),6],info.iloc[(int)(i/15),7],info.iloc[(int)(i/15),8],info.iloc[(int)(i/15),9],info.iloc[(int)(i/15),10],\n",
    "        #     info.iloc[(int)(i/15),11],info.iloc[(int)(i/15),12],info.iloc[(int)(i/15),13],info.iloc[(int)(i/15),14],info.iloc[(int)(i/15),15],info.iloc[(int)(i/15),16],\n",
    "        #     info.iloc[(int)(i/15),17],info.iloc[(int)(i/15),18],b.iloc[i,20].date(),b.iloc[i,21],info.iloc[(int)(i/15),21],info.iloc[(int)(i/15),22],info.iloc[(int)(i/15),23],\n",
    "        #     b.iloc[i,25],b.iloc[i,26],b.iloc[i,27],b.iloc[i,28],b.iloc[i,29],b.iloc[i,30],b.iloc[i,31]]   \n",
    "        # else:\n",
    "        #     datalist = [b.iloc[i,0],b.iloc[i,1],b.iloc[i,2],b.iloc[i,3],b.iloc[i,4],b.iloc[i,5],b.iloc[i,6],b.iloc[i,7],b.iloc[i,8],b.iloc[i,9],b.iloc[i,10],\n",
    "        #     b.iloc[i,11],b.iloc[i,12],b.iloc[i,13],b.iloc[i,14],b.iloc[i,15],b.iloc[i,16],b.iloc[i,17],b.iloc[i,18],b.iloc[i,19],\n",
    "        #     b.iloc[i,20].date(),b.iloc[i,21],b.iloc[i,22],b.iloc[i,23],b.iloc[i,24],b.iloc[i,25],b.iloc[i,26],b.iloc[i,27],b.iloc[i,28],b.iloc[i,29],b.iloc[i,30],b.iloc[i,31]]\n",
    "        if str(b.iloc[i,1])==\"nan\":\n",
    "            datalist = [b.iloc[i,0],info.iloc[k,0],info.iloc[k,1],info.iloc[k,2],info.iloc[k,3],info.iloc[k,4],\n",
    "            info.iloc[k,5],info.iloc[k,6],info.iloc[k,7],info.iloc[k,8],info.iloc[k,9],info.iloc[k,10],\n",
    "            info.iloc[k,11],info.iloc[k,12],info.iloc[k,13],info.iloc[k,14],info.iloc[k,15],info.iloc[k,16],\n",
    "            info.iloc[k,17],info.iloc[k,18],b.iloc[i,20].date(),b.iloc[i,21],info.iloc[k,21],info.iloc[k,22],info.iloc[k,23],\n",
    "            b.iloc[i,25],b.iloc[i,26],b.iloc[i,27],b.iloc[i,28],b.iloc[i,29],b.iloc[i,30],b.iloc[i,31]]   \n",
    "        else:\n",
    "            datalist = [b.iloc[i,0],b.iloc[i,1],b.iloc[i,2],b.iloc[i,3],b.iloc[i,4],b.iloc[i,5],b.iloc[i,6],b.iloc[i,7],b.iloc[i,8],b.iloc[i,9],b.iloc[i,10],\n",
    "            b.iloc[i,11],b.iloc[i,12],b.iloc[i,13],b.iloc[i,14],b.iloc[i,15],b.iloc[i,16],b.iloc[i,17],b.iloc[i,18],b.iloc[i,19],\n",
    "            b.iloc[i,20].date(),b.iloc[i,21],b.iloc[i,22],b.iloc[i,23],b.iloc[i,24],b.iloc[i,25],b.iloc[i,26],b.iloc[i,27],b.iloc[i,28],b.iloc[i,29],b.iloc[i,30],b.iloc[i,31]]\n",
    "        print(datalist)\n",
    "        csv_write = csv.writer(fs)\n",
    "        csv_write.writerow(datalist)\n"
   ]
  }
 ],
 "metadata": {
  "interpreter": {
   "hash": "fadb88b6e0352f6ca778b5f0205dbbad2d926fc7d9ed66595f874628d2a2229e"
  },
  "kernelspec": {
   "display_name": "Python 3",
   "language": "python",
   "name": "python3"
  },
  "language_info": {
   "codemirror_mode": {
    "name": "ipython",
    "version": 3
   },
   "file_extension": ".py",
   "mimetype": "text/x-python",
   "name": "python",
   "nbconvert_exporter": "python",
   "pygments_lexer": "ipython3",
   "version": "3.6.5"
  }
 },
 "nbformat": 4,
 "nbformat_minor": 2
}